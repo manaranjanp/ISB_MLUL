{
 "cells": [
  {
   "cell_type": "markdown",
   "id": "4d8a06f6",
   "metadata": {},
   "source": [
    "# Clustering Using Customer Transactions Data"
   ]
  },
  {
   "cell_type": "code",
   "execution_count": null,
   "id": "d3fe5393",
   "metadata": {},
   "outputs": [],
   "source": [
    "import numpy as np \n",
    "import pandas as pd \n",
    "import matplotlib.pyplot as plt\n",
    "import seaborn as sn\n",
    "\n",
    "import warnings\n",
    "warnings.filterwarnings('ignore')\n",
    "\n",
    "import datetime as dt\n",
    "from sklearn.preprocessing import StandardScaler\n",
    "from sklearn.cluster import KMeans"
   ]
  },
  {
   "cell_type": "code",
   "execution_count": null,
   "id": "86c19b6d",
   "metadata": {},
   "outputs": [],
   "source": [
    "retail_df = pd.read_csv(\"https://raw.githubusercontent.com/manaranjanp/ISB_MLUL/main/clustering/retail_txns.csv\")"
   ]
  },
  {
   "cell_type": "code",
   "execution_count": null,
   "id": "776ae2ce",
   "metadata": {},
   "outputs": [],
   "source": [
    "retail_df.Country.value_counts()"
   ]
  },
  {
   "cell_type": "code",
   "execution_count": null,
   "id": "9c987bd2",
   "metadata": {},
   "outputs": [],
   "source": [
    "retail_df.info();"
   ]
  },
  {
   "cell_type": "code",
   "execution_count": null,
   "id": "92ff8951",
   "metadata": {},
   "outputs": [],
   "source": [
    "retail_df.isnull().sum()"
   ]
  },
  {
   "cell_type": "code",
   "execution_count": null,
   "id": "49cdbd3c",
   "metadata": {},
   "outputs": [],
   "source": [
    "retail_df.dropna( subset = ['CustomerID'], inplace = True)"
   ]
  },
  {
   "cell_type": "code",
   "execution_count": null,
   "id": "a75089b7",
   "metadata": {},
   "outputs": [],
   "source": [
    "retail_df.info()"
   ]
  },
  {
   "cell_type": "code",
   "execution_count": null,
   "id": "60f246a7",
   "metadata": {},
   "outputs": [],
   "source": [
    "retail_df.isnull().sum()"
   ]
  },
  {
   "cell_type": "code",
   "execution_count": null,
   "id": "cbfb3fcb",
   "metadata": {},
   "outputs": [],
   "source": [
    "retail_df.duplicated().sum()"
   ]
  },
  {
   "cell_type": "code",
   "execution_count": null,
   "id": "7ac67360",
   "metadata": {},
   "outputs": [],
   "source": [
    "retail_df.drop_duplicates(inplace = True)"
   ]
  },
  {
   "cell_type": "code",
   "execution_count": null,
   "id": "6857df65",
   "metadata": {},
   "outputs": [],
   "source": [
    "retail_df.info();"
   ]
  },
  {
   "cell_type": "code",
   "execution_count": null,
   "id": "c6d2fc49",
   "metadata": {},
   "outputs": [],
   "source": [
    "sn.kdeplot(retail_df.Quantity);"
   ]
  },
  {
   "cell_type": "code",
   "execution_count": null,
   "id": "cca7c4eb",
   "metadata": {},
   "outputs": [],
   "source": [
    "retail_df[retail_df.Quantity < 0][0:10]"
   ]
  },
  {
   "cell_type": "code",
   "execution_count": null,
   "id": "a81bbd34",
   "metadata": {},
   "outputs": [],
   "source": [
    "sn.kdeplot(retail_df.UnitPrice);"
   ]
  },
  {
   "cell_type": "markdown",
   "id": "25eedddb",
   "metadata": {},
   "source": [
    "### StockCode Information"
   ]
  },
  {
   "cell_type": "code",
   "execution_count": null,
   "id": "02779204",
   "metadata": {},
   "outputs": [],
   "source": [
    "stock_df = retail_df[['CustomerID', 'StockCode']]"
   ]
  },
  {
   "cell_type": "code",
   "execution_count": null,
   "id": "51ef1372",
   "metadata": {},
   "outputs": [],
   "source": [
    "stock_df.drop_duplicates(inplace = True)"
   ]
  },
  {
   "cell_type": "code",
   "execution_count": null,
   "id": "4c8bcc31",
   "metadata": {},
   "outputs": [],
   "source": [
    "stock_df.info()"
   ]
  },
  {
   "cell_type": "code",
   "execution_count": null,
   "id": "cd696693",
   "metadata": {},
   "outputs": [],
   "source": [
    "len(stock_df.StockCode.unique())"
   ]
  },
  {
   "cell_type": "code",
   "execution_count": null,
   "id": "ac1a01cc",
   "metadata": {},
   "outputs": [],
   "source": [
    "len(stock_df.CustomerID.unique())"
   ]
  },
  {
   "cell_type": "code",
   "execution_count": null,
   "id": "2ed1dd5e",
   "metadata": {},
   "outputs": [],
   "source": [
    "stock_count_df = stock_df.StockCode.value_counts().reset_index()\n",
    "stock_count_df.columns = ['StockCode', 'count']"
   ]
  },
  {
   "cell_type": "code",
   "execution_count": null,
   "id": "d1c1ddde",
   "metadata": {},
   "outputs": [],
   "source": [
    "plt.figure(figsize = (10, 5))\n",
    "sn.histplot( stock_count_df['count']);"
   ]
  },
  {
   "cell_type": "code",
   "execution_count": null,
   "id": "6a1bb0fb",
   "metadata": {},
   "outputs": [],
   "source": [
    "stock_count_df = stock_count_df[stock_count_df['count'] > 10]\n",
    "stock_count_df"
   ]
  },
  {
   "cell_type": "markdown",
   "id": "2c70c40b",
   "metadata": {},
   "source": [
    "### Customer Information"
   ]
  },
  {
   "cell_type": "code",
   "execution_count": null,
   "id": "21210a7a",
   "metadata": {},
   "outputs": [],
   "source": [
    "cust_count_df = stock_df.CustomerID.value_counts().reset_index()\n",
    "cust_count_df.columns = ['CustomerID', 'count']"
   ]
  },
  {
   "cell_type": "code",
   "execution_count": null,
   "id": "5d602a4b",
   "metadata": {},
   "outputs": [],
   "source": [
    "plt.figure(figsize = (10, 5))\n",
    "sn.histplot( cust_count_df['count']);"
   ]
  },
  {
   "cell_type": "code",
   "execution_count": null,
   "id": "2d2f0754",
   "metadata": {},
   "outputs": [],
   "source": [
    "cust_count_df[cust_count_df['count'] > 10]\n",
    "cust_count_df"
   ]
  },
  {
   "cell_type": "code",
   "execution_count": null,
   "id": "dab82e3b",
   "metadata": {},
   "outputs": [],
   "source": [
    "clean_stock_df = stock_df[stock_df.StockCode.isin(stock_count_df.StockCode.unique()) &\n",
    "                          stock_df.CustomerID.isin(cust_count_df.CustomerID.unique())]"
   ]
  },
  {
   "cell_type": "code",
   "execution_count": null,
   "id": "b3593b96",
   "metadata": {},
   "outputs": [],
   "source": [
    "clean_stock_df.info()"
   ]
  },
  {
   "cell_type": "code",
   "execution_count": null,
   "id": "d375fdce",
   "metadata": {},
   "outputs": [],
   "source": [
    "clean_stock_df['bought'] = 1.0"
   ]
  },
  {
   "cell_type": "code",
   "execution_count": null,
   "id": "69fcc7a3",
   "metadata": {},
   "outputs": [],
   "source": [
    "clean_stock_df"
   ]
  },
  {
   "cell_type": "code",
   "execution_count": null,
   "id": "f462e642",
   "metadata": {},
   "outputs": [],
   "source": [
    "cust_stocks_df = clean_stock_df.pivot( index='StockCode', \n",
    "                                       columns='CustomerID', \n",
    "                                       values = \"bought\" )\n",
    "cust_stocks_df[0:10]"
   ]
  },
  {
   "cell_type": "code",
   "execution_count": null,
   "id": "f501b0e1",
   "metadata": {},
   "outputs": [],
   "source": [
    "cust_stocks_df.shape"
   ]
  },
  {
   "cell_type": "code",
   "execution_count": null,
   "id": "63f04ef0",
   "metadata": {},
   "outputs": [],
   "source": [
    "cust_stocks_df = cust_stocks_df.fillna(0.0)\n",
    "cust_stocks_df.sample(10)"
   ]
  },
  {
   "cell_type": "code",
   "execution_count": null,
   "id": "a93a6062",
   "metadata": {},
   "outputs": [],
   "source": [
    "from sklearn.metrics.pairwise import pairwise_distances"
   ]
  },
  {
   "cell_type": "code",
   "execution_count": null,
   "id": "b747ad90",
   "metadata": {},
   "outputs": [],
   "source": [
    "jaccard_distance = pairwise_distances(cust_stocks_df.values, metric=\"jaccard\")"
   ]
  },
  {
   "cell_type": "code",
   "execution_count": null,
   "id": "bdd5b632",
   "metadata": {},
   "outputs": [],
   "source": [
    "jaccard_distance"
   ]
  },
  {
   "cell_type": "code",
   "execution_count": null,
   "id": "52098102",
   "metadata": {},
   "outputs": [],
   "source": [
    "jaccard_distance.shape"
   ]
  },
  {
   "cell_type": "code",
   "execution_count": null,
   "id": "936ac53b",
   "metadata": {},
   "outputs": [],
   "source": [
    "from sklearn.cluster import HDBSCAN"
   ]
  },
  {
   "cell_type": "code",
   "execution_count": null,
   "id": "c12dfe31",
   "metadata": {},
   "outputs": [],
   "source": [
    "h_cluster = HDBSCAN(min_cluster_size=2, metric = 'jaccard')"
   ]
  },
  {
   "cell_type": "code",
   "execution_count": null,
   "id": "a540445c",
   "metadata": {},
   "outputs": [],
   "source": [
    "#h_cluster = AgglomerativeClustering(n_clusters = 5)"
   ]
  },
  {
   "cell_type": "code",
   "execution_count": null,
   "id": "32173fcf",
   "metadata": {},
   "outputs": [],
   "source": [
    "h_cluster.fit(cust_stocks_df)"
   ]
  },
  {
   "cell_type": "code",
   "execution_count": null,
   "id": "97b2221f",
   "metadata": {},
   "outputs": [],
   "source": [
    "h_cluster.labels_"
   ]
  },
  {
   "cell_type": "code",
   "execution_count": null,
   "id": "9bf92ce2",
   "metadata": {},
   "outputs": [],
   "source": [
    "stock_clusters = pd.DataFrame( { \"StockCode\" : cust_stocks_df.index,\n",
    "                                 \"ClusterID\": h_cluster.labels_ } )"
   ]
  },
  {
   "cell_type": "code",
   "execution_count": null,
   "id": "6725bd36",
   "metadata": {},
   "outputs": [],
   "source": [
    "stock_clusters"
   ]
  },
  {
   "cell_type": "code",
   "execution_count": null,
   "id": "74f83e0c",
   "metadata": {},
   "outputs": [],
   "source": [
    "stock_desc_dict = dict(zip(retail_df['StockCode'], retail_df['Description']))"
   ]
  },
  {
   "cell_type": "code",
   "execution_count": null,
   "id": "8793a340",
   "metadata": {},
   "outputs": [],
   "source": [
    "stock_clusters['Description'] = stock_clusters.StockCode.map(lambda x: stock_desc_dict[x])"
   ]
  },
  {
   "cell_type": "code",
   "execution_count": null,
   "id": "f0281d75",
   "metadata": {},
   "outputs": [],
   "source": [
    "stock_clusters[stock_clusters.ClusterID == 0]"
   ]
  },
  {
   "cell_type": "code",
   "execution_count": null,
   "id": "1be85e08",
   "metadata": {},
   "outputs": [],
   "source": [
    "stock_clusters[stock_clusters.ClusterID == 1]"
   ]
  },
  {
   "cell_type": "code",
   "execution_count": null,
   "id": "d53ddc0d",
   "metadata": {},
   "outputs": [],
   "source": [
    "stock_clusters[stock_clusters.ClusterID == 2]"
   ]
  },
  {
   "cell_type": "code",
   "execution_count": null,
   "id": "50d12b6c",
   "metadata": {},
   "outputs": [],
   "source": [
    "stock_clusters[stock_clusters.ClusterID == 10]"
   ]
  },
  {
   "cell_type": "code",
   "execution_count": null,
   "id": "2653e896",
   "metadata": {},
   "outputs": [],
   "source": [
    "stock_clusters[stock_clusters.ClusterID == 12]"
   ]
  }
 ],
 "metadata": {
  "kernelspec": {
   "display_name": "Python 3 (ipykernel)",
   "language": "python",
   "name": "python3"
  },
  "language_info": {
   "codemirror_mode": {
    "name": "ipython",
    "version": 3
   },
   "file_extension": ".py",
   "mimetype": "text/x-python",
   "name": "python",
   "nbconvert_exporter": "python",
   "pygments_lexer": "ipython3",
   "version": "3.10.9"
  }
 },
 "nbformat": 4,
 "nbformat_minor": 5
}
